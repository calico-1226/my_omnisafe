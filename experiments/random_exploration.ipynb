{
 "cells": [
  {
   "attachments": {},
   "cell_type": "markdown",
   "metadata": {},
   "source": [
    "# Shield Adapter"
   ]
  },
  {
   "cell_type": "code",
   "execution_count": 1,
   "metadata": {},
   "outputs": [
    {
     "name": "stderr",
     "output_type": "stream",
     "text": [
      "/home/juntao/anaconda3/envs/omnisafe/lib/python3.8/site-packages/tqdm/auto.py:21: TqdmWarning: IProgress not found. Please update jupyter and ipywidgets. See https://ipywidgets.readthedocs.io/en/stable/user_install.html\n",
      "  from .autonotebook import tqdm as notebook_tqdm\n"
     ]
    },
    {
     "name": "stdout",
     "output_type": "stream",
     "text": [
      "Loading PPO.yaml from /home/juntao/workspace/my_omnisafe/omnisafe/utils/../configs/on-policy/PPO.yaml\n"
     ]
    }
   ],
   "source": [
    "import torch\n",
    "import omnisafe\n",
    "from omnisafe.adapter import ShieldAdapter\n",
    "from omnisafe.utils.config import get_default_kwargs_yaml, Config\n",
    "\n",
    "train_terminal_cfgs = {\n",
    "    \"algo\": \"PPO\",\n",
    "    \"env_id\": \"SafetyPointGoal1-v0\",\n",
    "    \"parallel\": 1,\n",
    "    \"total_steps\": 1638400,\n",
    "    \"device\": \"cpu\",\n",
    "    \"vector_env_nums\": 64,\n",
    "    \"torch_threads\": 16,\n",
    "}\n",
    "\n",
    "agent = omnisafe.Agent(\n",
    "    train_terminal_cfgs[\"algo\"],\n",
    "    train_terminal_cfgs[\"env_id\"],\n",
    "    train_terminal_cfgs=train_terminal_cfgs,\n",
    ")\n",
    "cfgs: Config = agent.cfgs\n",
    "\n",
    "data_dir = \"/home/juntao/workspace/my_omnisafe/experiments/data\"\n"
   ]
  },
  {
   "cell_type": "code",
   "execution_count": 2,
   "metadata": {},
   "outputs": [
    {
     "name": "stdout",
     "output_type": "stream",
     "text": [
      "{'seed': 0, 'train_cfgs': {'device': 'cpu', 'torch_threads': 16, 'vector_env_nums': 64, 'parallel': 1, 'total_steps': 1638400, 'algo': 'PPO', 'env_id': 'SafetyPointGoal1-v0', 'epochs': 50}, 'algo_cfgs': {'update_cycle': 32768, 'update_iters': 40, 'batch_size': 64, 'target_kl': 0.02, 'entropy_coef': 0.0, 'reward_normalize': True, 'cost_normalize': True, 'obs_normalize': True, 'kl_early_stop': True, 'use_max_grad_norm': True, 'max_grad_norm': 40.0, 'use_critic_norm': True, 'critic_norm_coef': 0.001, 'gamma': 0.99, 'cost_gamma': 0.99, 'lam': 0.95, 'lam_c': 0.95, 'clip': 0.2, 'adv_estimation_method': 'gae', 'standardized_rew_adv': True, 'standardized_cost_adv': True, 'penalty_coef': 0.0, 'use_cost': False}, 'logger_cfgs': {'use_wandb': False, 'wandb_project': 'omnisafe', 'use_tensorboard': True, 'save_model_freq': 100, 'log_dir': './runs', 'window_lens': 100}, 'model_cfgs': {'weight_initialization_mode': 'kaiming_uniform', 'actor_type': 'gaussian_learning', 'linear_lr_decay': True, 'exploration_noise_anneal': False, 'std_range': [0.5, 0.1], 'actor': {'hidden_sizes': [64, 64], 'activation': 'tanh', 'lr': 0.0003}, 'critic': {'hidden_sizes': [64, 64], 'activation': 'tanh', 'lr': 0.0003}}, 'exp_name': 'PPO-(SafetyPointGoal1-v0)', 'env_id': 'SafetyPointGoal1-v0'}\n",
      "<class 'omnisafe.utils.config.Config'>\n"
     ]
    }
   ],
   "source": [
    "print(cfgs)\n",
    "print(type(cfgs))\n",
    "env = ShieldAdapter(\n",
    "    train_terminal_cfgs[\"env_id\"], cfgs.train_cfgs.vector_env_nums, cfgs.seed, cfgs\n",
    ")"
   ]
  },
  {
   "cell_type": "code",
   "execution_count": 3,
   "metadata": {},
   "outputs": [
    {
     "name": "stderr",
     "output_type": "stream",
     "text": [
      "100%|██████████| 250000/250000 [1:16:26<00:00, 54.51it/s]  \n"
     ]
    },
    {
     "name": "stdout",
     "output_type": "stream",
     "text": [
      "Collected 16000000 random samples.\n"
     ]
    }
   ],
   "source": [
    "steps = 16_000_000\n",
    "data = env.random_exploration(steps=steps)\n",
    "import os\n",
    "os.makedirs(data_dir, exist_ok=True)\n",
    "filename = f\"random_{cfgs.train_cfgs.env_id}_{steps}.pt\"\n",
    "filename = os.path.join(data_dir, filename)\n",
    "torch.save(data, filename)"
   ]
  },
  {
   "cell_type": "code",
   "execution_count": 4,
   "metadata": {},
   "outputs": [
    {
     "name": "stdout",
     "output_type": "stream",
     "text": [
      "obs shape: torch.Size([16000000, 60])\n",
      "act shape: torch.Size([16000000, 2])\n",
      "reward shape: torch.Size([16000000])\n",
      "cost shape: torch.Size([16000000])\n",
      "done shape: torch.Size([16000000])\n",
      "next_obs shape: torch.Size([16000000, 60])\n"
     ]
    }
   ],
   "source": [
    "def flatten_vectors(vectors):\n",
    "    return vectors.transpose(0, 1).flatten(0, 1)\n",
    "\n",
    "flatten_data = {k: flatten_vectors(v) for k, v in data.items()}\n",
    "flatten_data.keys()\n",
    "for k, v in flatten_data.items():\n",
    "    print(f\"{k} shape: {v.shape}\")"
   ]
  },
  {
   "cell_type": "code",
   "execution_count": null,
   "metadata": {},
   "outputs": [],
   "source": []
  }
 ],
 "metadata": {
  "kernelspec": {
   "display_name": "shield",
   "language": "python",
   "name": "python3"
  },
  "language_info": {
   "codemirror_mode": {
    "name": "ipython",
    "version": 3
   },
   "file_extension": ".py",
   "mimetype": "text/x-python",
   "name": "python",
   "nbconvert_exporter": "python",
   "pygments_lexer": "ipython3",
   "version": "3.8.16"
  },
  "orig_nbformat": 4
 },
 "nbformat": 4,
 "nbformat_minor": 2
}
