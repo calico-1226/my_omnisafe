{
 "cells": [
  {
   "attachments": {},
   "cell_type": "markdown",
   "metadata": {},
   "source": [
    "# Training Shield"
   ]
  },
  {
   "cell_type": "code",
   "execution_count": null,
   "metadata": {},
   "outputs": [],
   "source": [
    "import torch\n",
    "import os\n",
    "import omnisafe\n",
    "from omnisafe.adapter import ShieldAdapter\n",
    "from omnisafe.utils.config import get_default_kwargs_yaml, Config\n",
    "\n",
    "train_terminal_cfgs = {\n",
    "    \"algo\": \"PPO\",\n",
    "    \"env_id\": \"SafetyPointGoal1-v0\",\n",
    "    \"parallel\": 1,\n",
    "    \"total_steps\": 1638400,\n",
    "    \"device\": \"cpu\",\n",
    "    \"vector_env_nums\": 16,\n",
    "    \"torch_threads\": 16,\n",
    "}\n",
    "\n",
    "agent = omnisafe.Agent(\n",
    "    train_terminal_cfgs[\"algo\"],\n",
    "    train_terminal_cfgs[\"env_id\"],\n",
    "    train_terminal_cfgs=train_terminal_cfgs,\n",
    ")\n",
    "cfgs: Config = agent.cfgs\n",
    "\n",
    "steps = 16_000_000\n",
    "data_dir = \"/home/juntao/workspace/my_omnisafe/experiments/data\"\n",
    "filename = f\"random_{cfgs.train_cfgs.env_id}_{steps}.pt\"\n",
    "filename = os.path.join(data_dir, filename)\n",
    "\n",
    "checkpoint_dir = \"/home/juntao/workspace/my_omnisafe/experiments/checkpoints\"\n",
    "os.makedirs(checkpoint_dir, exist_ok=True)\n",
    "checkpoint_filename = f\"random_{cfgs.train_cfgs.env_id}_{steps}.ckpt\"\n",
    "checkpoint_filename = os.path.join(checkpoint_dir, checkpoint_filename)"
   ]
  },
  {
   "cell_type": "code",
   "execution_count": null,
   "metadata": {},
   "outputs": [],
   "source": [
    "data = torch.load(filename)\n",
    "print(data.keys())\n",
    "for k,v in data.items():\n",
    "    print(f\"{k} shape: {v.shape}\")"
   ]
  },
  {
   "cell_type": "code",
   "execution_count": null,
   "metadata": {},
   "outputs": [],
   "source": [
    "print(data[\"cost\"].sum())"
   ]
  },
  {
   "cell_type": "code",
   "execution_count": null,
   "metadata": {},
   "outputs": [],
   "source": [
    "from omnisafe.models.custom_modes.classifier_shield import ClassifierShield\n",
    "\n",
    "device = torch.device(\"cuda:1\")\n",
    "\n",
    "shield_cfg = {\n",
    "    \"device\": device,\n",
    "    \"dtype\": torch.float32,\n",
    "    \"risk_threshold\": 0.775,\n",
    "    \"max_resample_times\": 100,\n",
    "    \"resample_batch_size\": 20,\n",
    "    \"batch_size\": 32,\n",
    "    \"risk_discount\": 0.95,\n",
    "    \"risk_model\": {\n",
    "        \"hidden_sizes\": [64, 64],\n",
    "        \"activation\": \"relu\",\n",
    "        \"output_activation\": \"sigmoid\",\n",
    "        \"weight_initialization_mode\": \"xavier_uniform\",\n",
    "    },\n",
    "    \"classifier_model\": {\n",
    "        \"hidden_sizes\": [64, 64],\n",
    "        \"activation\": \"sigmoid\",\n",
    "        \"output_activation\": \"softmax\",\n",
    "        \"weight_initialization_mode\": \"xavier_uniform\",\n",
    "    },\n",
    "}\n",
    "\n",
    "env = ShieldAdapter(\n",
    "    train_terminal_cfgs[\"env_id\"], cfgs.train_cfgs.vector_env_nums, cfgs.seed, cfgs\n",
    ")\n",
    "\n",
    "shield = ClassifierShield(env, shield_cfg)"
   ]
  },
  {
   "cell_type": "code",
   "execution_count": null,
   "metadata": {},
   "outputs": [],
   "source": [
    "def flatten_vectorized_dict(d):\n",
    "    return {k: v.transpose(0, 1).flatten(0, 1) for k, v in d.items()}\n",
    "\n",
    "def dict_to_device(d, device):\n",
    "    return {k: v.to(device) for k, v in d.items()}\n",
    "\n",
    "flatten_data = flatten_vectorized_dict(data)\n",
    "flatten_data = dict_to_device(flatten_data, device)\n",
    "flatten_data[\"risk\"] = flatten_data[\"cost\"].clone().bool().float()\n",
    "flatten_data[\"terminated\"] = flatten_data[\"done\"].bool()\n",
    "\n",
    "print(flatten_data[\"risk\"])\n",
    "\n"
   ]
  },
  {
   "cell_type": "code",
   "execution_count": null,
   "metadata": {},
   "outputs": [],
   "source": [
    "num_epochs:int = 2\n",
    "for _ in range(num_epochs):\n",
    "    shield.update(flatten_data)"
   ]
  },
  {
   "cell_type": "code",
   "execution_count": null,
   "metadata": {},
   "outputs": [],
   "source": [
    "\n",
    "shield.save_model(checkpoint_filename)"
   ]
  }
 ],
 "metadata": {
  "kernelspec": {
   "display_name": "omnisafe",
   "language": "python",
   "name": "python3"
  },
  "language_info": {
   "codemirror_mode": {
    "name": "ipython",
    "version": 3
   },
   "file_extension": ".py",
   "mimetype": "text/x-python",
   "name": "python",
   "nbconvert_exporter": "python",
   "pygments_lexer": "ipython3",
   "version": "3.8.16"
  },
  "orig_nbformat": 4
 },
 "nbformat": 4,
 "nbformat_minor": 2
}
